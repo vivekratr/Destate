{
 "cells": [
  {
   "cell_type": "code",
   "execution_count": 24,
   "metadata": {},
   "outputs": [
    {
     "data": {
      "text/plain": [
       "'1'"
      ]
     },
     "execution_count": 24,
     "metadata": {},
     "output_type": "execute_result"
    }
   ],
   "source": [
    "import os\n",
    "import pandas as pd \n",
    "\n",
    "def check_login():\n",
    "    data = {\"wallet_address\": \"0x1234567890\"}\n",
    "    check = data[\"wallet_address\"]\n",
    "    check_from = pd.read_csv(\"D:/Abhi-theek-kar-k-deta-hu/artifacts/database.csv\")\n",
    "    if check in check_from.values:\n",
    "        return \"0\"\n",
    "    else:\n",
    "        return \"1\"\n",
    "    \n",
    "check_login()"
   ]
  },
  {
   "cell_type": "code",
   "execution_count": 103,
   "metadata": {},
   "outputs": [
    {
     "name": "stdout",
     "output_type": "stream",
     "text": [
      "0\n"
     ]
    }
   ],
   "source": [
    "data = {\"wallet_address\": \"12\"}\n",
    "check = str(data[\"wallet_address\"])\n",
    "df = pd.read_csv(\"D:/Abhi-theek-kar-k-deta-hu/artifacts/database.csv\")\n",
    "\n",
    "if df[df['wallet_address'] == check].empty:\n",
    "    return \"0\"\n",
    "else:\n",
    "    return \"1\""
   ]
  },
  {
   "cell_type": "code",
   "execution_count": 21,
   "metadata": {},
   "outputs": [],
   "source": [
    "pd.DataFrame({\"wallet_address\": [\"0x1234567890\"]}).to_csv(\"D:/Abhi-theek-kar-k-deta-hu/artifacts/database.csv\", mode='a', header=False, index=False)"
   ]
  },
  {
   "cell_type": "code",
   "execution_count": 10,
   "metadata": {},
   "outputs": [],
   "source": [
    "from flask import Flask, render_template, request\n",
    "import requests"
   ]
  },
  {
   "cell_type": "code",
   "execution_count": 23,
   "metadata": {},
   "outputs": [
    {
     "data": {
      "text/plain": [
       "'0'"
      ]
     },
     "execution_count": 23,
     "metadata": {},
     "output_type": "execute_result"
    }
   ],
   "source": [
    "def reg_user():\n",
    "    data = {\"wallet_address\": \"Shr2\"}\n",
    "    df = pd.read_csv(\"D:/Abhi-theek-kar-k-deta-hu/artifacts/database.csv\")\n",
    "    df[\"wallet_address\"] = data[\"wallet_address\"]\n",
    "    df.to_csv(\"D:/Abhi-theek-kar-k-deta-hu/artifacts/database.csv\", index=False)\n",
    "    return \"0\"\n",
    "\n",
    "\n",
    "reg_user()"
   ]
  },
  {
   "cell_type": "code",
   "execution_count": 31,
   "metadata": {},
   "outputs": [
    {
     "name": "stdout",
     "output_type": "stream",
     "text": [
      "0\n"
     ]
    }
   ],
   "source": [
    "import pandas as pd\n",
    "\n",
    "def reg_user():\n",
    "    \n",
    "    data = {\"wallet_address\": \"Shr3\"}\n",
    "\n",
    "    df = pd.read_csv(\"D:/Abhi-theek-kar-k-deta-hu/artifacts/database.csv\")\n",
    "    next_index = df.index.max() + 1 if not df.empty else 0\n",
    "    \n",
    "    df.loc[next_index, \"wallet_address\"] = data[\"wallet_address\"]\n",
    "\n",
    "    df.to_csv(\"D:/Abhi-theek-kar-k-deta-hu/artifacts/database.csv\", index=False)\n",
    "    \n",
    "    return \"0\"\n",
    "\n",
    "# Example usage:\n",
    "print(reg_user())\n"
   ]
  },
  {
   "cell_type": "code",
   "execution_count": 7,
   "metadata": {},
   "outputs": [],
   "source": [
    "from opencage.geocoder import OpenCageGeocode\n",
    "\n",
    "def get_location_by_address(address):\n",
    "        geocoder = OpenCageGeocode('b7ce06f8bf404ce2957a8260aa9cf49e')\n",
    "        results = geocoder.geocode(address)\n",
    "        if results and len(results):\n",
    "            print(results[0]['components']['city'])\n",
    "            return (results[0]['geometry']['lat'], results[0]['geometry']['lng'], results[0]['components']['city'])\n",
    "        "
   ]
  },
  {
   "cell_type": "code",
   "execution_count": 16,
   "metadata": {},
   "outputs": [],
   "source": [
    "import csv\n",
    "\n",
    "data = {\"id\": \"1\", \"address\": \"andheri\", \"lat\": \"19.1197\", \"long\": \"72.8466\", \"city\": \"Mumbai\"}\n",
    "\n",
    "with open(\"D:/Abhi-theek-kar-k-deta-hu/artifacts/location.csv\", mode='a', newline='') as file:\n",
    "    writer = csv.writer(file)\n",
    "    writer.writerow(data.values())\n"
   ]
  },
  {
   "cell_type": "code",
   "execution_count": 73,
   "metadata": {},
   "outputs": [
    {
     "name": "stdout",
     "output_type": "stream",
     "text": [
      "Mumbai\n",
      "19.0928172 72.8569577 Mumbai\n",
      "{'id': [array([ 3, 23, 23, 23, 23, 23, 23, 23, 23], dtype=int64)], 'address': [array(['santacruz, mumbai, maharashtra, india',\n",
      "       'santacruz, mumbai, maharashtra, india',\n",
      "       'santacruz, mumbai, maharashtra, india',\n",
      "       'santacruz, mumbai, maharashtra, india',\n",
      "       'santacruz, mumbai, maharashtra, india',\n",
      "       'santacruz, mumbai, maharashtra, india',\n",
      "       'santacruz, mumbai, maharashtra, india',\n",
      "       'santacruz, mumbai, maharashtra, india',\n",
      "       'santacruz, mumbai, maharashtra, india'], dtype=object)], 'lat': [array([19.0928172, 19.0928172, 19.0928172, 19.0928172, 19.0928172,\n",
      "       19.0928172, 19.0928172, 19.0928172, 19.0928172])], 'long': [array([72.8569577, 72.8569577, 72.8569577, 72.8569577, 72.8569577,\n",
      "       72.8569577, 72.8569577, 72.8569577, 72.8569577])], 'city': [array(['Mumbai', 'Mumbai', 'Mumbai', 'Mumbai', 'Mumbai', 'Mumbai',\n",
      "       'Mumbai', 'Mumbai', 'Mumbai'], dtype=object)]}\n"
     ]
    }
   ],
   "source": [
    "import pandas as pd\n",
    "\n",
    "def returnid():\n",
    "    data = {\n",
    "        \"id\": \"23\", \n",
    "        \"address\": \"santacruz, mumbai, maharashtra, india\",\n",
    "    }\n",
    "    \n",
    "    x, y, city = get_location_by_address(data[\"address\"])\n",
    "    print(x, y, city)\n",
    "    \n",
    "    data = {\n",
    "        \"id\": data[\"id\"],\n",
    "        \"address\": data[\"address\"],\n",
    "        \"lat\": x,\n",
    "        \"long\": y,\n",
    "        \"city\": city,\n",
    "    }\n",
    "\n",
    "    df = pd.read_csv(\"D:/Abhi-theek-kar-k-deta-hu/artifacts/location.csv\")\n",
    "\n",
    "    df.loc[len(df)] = data\n",
    " \n",
    "    df.to_csv(\"D:/Abhi-theek-kar-k-deta-hu/artifacts/location.csv\", index=False)\n",
    "    \n",
    "    \n",
    "    df = pd.read_csv(\"D:/Abhi-theek-kar-k-deta-hu/artifacts/location.csv\")\n",
    "    df1 = df.groupby(\"city\")\n",
    "    \n",
    "    id = []\n",
    "    add = []\n",
    "    lat = []\n",
    "    long = []\n",
    "    city1 = []\n",
    "    for group in df1:\n",
    "    # print(f\"City: {name}\")\n",
    "        id.append(group[1][\"id\"].values)\n",
    "        add.append(group[1][\"address\"].values)\n",
    "        lat.append(group[1][\"lat\"].values)\n",
    "        long.append(group[1][\"long\"].values)\n",
    "        city1.append(group[1][\"city\"].values)\n",
    "        \n",
    "    data1 = {\n",
    "         \"id\": id,\n",
    "            \"address\": add,\n",
    "            \"lat\": lat,\n",
    "            \"long\": long,\n",
    "            \"city\": city1,\n",
    "        }\n",
    "    \n",
    "    return data1\n",
    "\n",
    "\n",
    "print(returnid())\n",
    "    "
   ]
  },
  {
   "cell_type": "code",
   "execution_count": 60,
   "metadata": {},
   "outputs": [
    {
     "name": "stdout",
     "output_type": "stream",
     "text": [
      "<pandas.core.groupby.generic.SeriesGroupBy object at 0x000002051BA29450>\n"
     ]
    }
   ],
   "source": [
    "df = pd.read_csv(\"D:/Abhi-theek-kar-k-deta-hu/artifacts/location.csv\")\n",
    "df1 = df.groupby(\"city\")\n",
    "df1[\"city\"]\n",
    "print(df1[\"city\"])"
   ]
  },
  {
   "cell_type": "code",
   "execution_count": 68,
   "metadata": {},
   "outputs": [
    {
     "name": "stdout",
     "output_type": "stream",
     "text": [
      "0     3\n",
      "1    23\n",
      "2    23\n",
      "Name: id, dtype: int64\n",
      "0    santacruz, mumbai, maharashtra, india\n",
      "1    santacruz, mumbai, maharashtra, india\n",
      "2    santacruz, mumbai, maharashtra, india\n",
      "Name: address, dtype: object\n",
      "0    19.092817\n",
      "1    19.092817\n",
      "2    19.092817\n",
      "Name: lat, dtype: float64\n",
      "0    Mumbai\n",
      "1    Mumbai\n",
      "2    Mumbai\n",
      "Name: city, dtype: object\n"
     ]
    }
   ],
   "source": [
    "df1 = df.groupby(\"city\")\n",
    "\n",
    "for group in df1:\n",
    "    # print(f\"City: {name}\")\n",
    "    print(group[1][\"id\"])\n",
    "    print(group[1][\"address\"])\n",
    "    print(group[1][\"lat\"])\n",
    "    print(group[1][\"city\"])"
   ]
  },
  {
   "cell_type": "code",
   "execution_count": null,
   "metadata": {},
   "outputs": [],
   "source": [
    "import requests\n",
    "# Headers\n",
    "headers = {\n",
    "  'Authorization': \"sk-c9jheqwwdedxtjsafric3mztyqz949bl80ewo43pv2oxht26oa1c916l2om4cx5c69\"\n",
    "}\n",
    "\n",
    "# Data\n",
    "data = {\n",
    "  'phone_number': '+919969109851',\n",
    "  'task': 'real estate broker of India',\n",
    "  'voice_id': 1,\n",
    "  'reduce_latency': True,\n",
    "  'request_data': {},\n",
    "  'voice_settings':{\n",
    "    \"speed\": \"0.8\"\n",
    "  },\n",
    "'interruption_threshold': 0,\n",
    "'start_time': None,\n",
    "'transfer_phone_number': None,\n",
    "'answered_by_enabled': False,\n",
    "'from': None,\n",
    "'first_sentence': None,\n",
    "'record': True,\n",
    "'max_duration': 2,\n",
    "'model': 'enhanced',\n",
    "'language': 'ENG',\n",
    "}\n",
    "\n",
    "# API request \n",
    "requests.post('https://api.bland.ai/call', json=data, headers=headers)\n",
    "            "
   ]
  },
  {
   "cell_type": "code",
   "execution_count": null,
   "metadata": {},
   "outputs": [],
   "source": [
    "    # Headers\n",
    "headers = {\n",
    "        'Authorization': \"sk-6s6ylohufsukisj8nb0nov0w2z9r0qe43u1e1vnyzcomawy0wvt63lvy527ztwie69\"\n",
    "    }\n",
    "\n",
    "    # Data\n",
    "data = {\n",
    "        'phone_number': '+919167606652',\n",
    "        'task': \"\"\"AI, codenamed \"Depr.ai,\" you\\'re tasked with reaching out to individuals who may be at risk of suicide or struggling with mental health issues. Your objective is to provide support, guidance, and resources to these individuals in a compassionate and empathetic manner. When making the call, introduce yourself as a representative from [Your Organization] and express genuine concern for the individual's well-being. Encourage them to share their feelings and experiences, and offer assistance in accessing mental health support services. Remember to be patient, understanding, and non-judgmental throughout the conversation, respecting the individual's pace and readiness to seek help. ***If the user seems to be really depressed or at-risk, suggest them to contact the authorities.***\n",
    "\n",
    "        Explanation:\n",
    "\n",
    "        As an AI, your role is to simulate human-like interactions and provide support to individuals who may be in distress. In this scenario, you're acting as a health assistant named James, reaching out to individuals based on indicators of distress observed on a website monitoring their online activity. Your goal is to engage the individual in a conversation about their mental health, offering empathy, understanding, and resources to help them cope with their struggles. It's crucial to approach the conversation with sensitivity and compassion, respecting the individual's feelings and autonomy while gently encouraging them to seek professional help if needed. Your prompt serves as a guide to help you navigate the conversation effectively and provide meaningful support to those in need.\n",
    "        Certainly, here's a dialogue that covers a variety of potential responses from the individual:\n",
    "\n",
    "        **AI:**\n",
    "        \"Hello, is this [Name]? My name is James, and I'm calling from [Your Organization]. We've noticed some concerning indicators on our website regarding your well-being, and I'm here to offer support. How are you feeling today?\n",
    "\n",
    "        **Individual:**\n",
    "        - \"I'm doing okay, just a bit stressed out.\"\n",
    "        - \"I've been feeling really down lately.\"\n",
    "        - \"Why are you calling me? I'm fine.\"\n",
    "\n",
    "        **AI:**\n",
    "        \"I understand, life can get overwhelming sometimes. It's important to recognize when we need extra support. Can you tell me more about what's been causing you stress or making you feel down?\"\n",
    "\n",
    "        **Individual:**\n",
    "        - \"Work's been really hectic lately, and I'm having trouble balancing everything.\"\n",
    "        - \"I've been dealing with a lot of family issues, and it's been taking a toll on my mental health.\"\n",
    "        - \"I'm not really sure. I just feel empty most of the time.\"\n",
    "\n",
    "        **AI:**\n",
    "        \"I'm sorry to hear that you're going through a tough time. It sounds like you're dealing with a lot right now. Have you thought about talking to someone about what you're going through? There are resources and support services available that can help you cope with stress and manage your mental health.\"\n",
    "\n",
    "        **Individual:**\n",
    "        - \"I've thought about it, but I'm not sure where to start.\"\n",
    "        - \"I'm not ready to talk to a therapist yet.\"\n",
    "        - \"I don't think talking to anyone will help.\"\n",
    "\n",
    "        **AI:**\n",
    "        \"It's understandable to feel unsure about reaching out for help. Taking that step can be daunting, but it's important to remember that you're not alone. Our organization offers confidential support services, and our team is here to assist you every step of the way. Whether you're ready to talk now or need some time to think about it, we're here to support you whenever you're ready.\"\n",
    "\n",
    "        **Individual:**\n",
    "        - \"Okay, maybe I'll consider it.\"\n",
    "        - \"Thanks for calling, but I'm not interested.\"\n",
    "        - \"I appreciate your concern, but I think I'll be fine on my own.\"\n",
    "\n",
    "        **AI:**\n",
    "        \"That's completely okay. Remember, you're in control of your own journey, and it's important to do what feels right for you. If you ever change your mind or need someone to talk to, don't hesitate to reach out to us. Your well-being is important to us, and we're here to support you in any way we can. Take care of yourself, and don't hesitate to reach out if you need assistance. Goodbye for now.\\\"\"\"\",\n",
    "        'voice_id': 1,\n",
    "        'reduce_latency': True,\n",
    "        'request_data': {},\n",
    "        'voice_settings': {\n",
    "            'speed': 1\n",
    "        },\n",
    "        'interruption_threshold': 0,\n",
    "        'start_time': None,\n",
    "        'transfer_phone_number': None,\n",
    "        'answered_by_enabled': False,\n",
    "        'from': None,\n",
    "        'first_sentence': None,\n",
    "        'record': True,\n",
    "        'max_duration': 2,\n",
    "        'model': 'enhanced',\n",
    "        'language': 'ENG'\n",
    "}\n",
    "\n",
    "    # API request \n",
    "response = requests.post('https://api.bland.ai/call', json=data, headers=headers)\n",
    "print(response.text)  # Print response for debugging purposes\n"
   ]
  },
  {
   "cell_type": "code",
   "execution_count": 85,
   "metadata": {},
   "outputs": [],
   "source": [
    "import docx"
   ]
  },
  {
   "cell_type": "code",
   "execution_count": 94,
   "metadata": {},
   "outputs": [],
   "source": [
    "from docx import Document\n",
    "from docx.shared import Pt\n",
    "from docx.enum.text import WD_PARAGRAPH_ALIGNMENT\n",
    "from docx.shared import RGBColor\n",
    "from docx.shared import Cm\n",
    "\n",
    "def add_table(doc, table_data, column_headers):\n",
    "    table = doc.add_table(rows=1, cols=len(column_headers))\n",
    "    hdr_cells = table.rows[0].cells\n",
    "    for i, header in enumerate(column_headers):\n",
    "        hdr_cells[i].text = header\n",
    "    for row_data in table_data:\n",
    "        row_cells = table.add_row().cells\n",
    "        for i, value in enumerate(row_data):\n",
    "            row_cells[i].text = str(value)\n",
    "            row_cells[i].width = Cm(4)  # Adjust the width of each cell\n",
    "\n",
    "def add_paragraph(doc, text):\n",
    "    paragraph = doc.add_paragraph(text)\n",
    "\n",
    "def generate_report(data):\n",
    "    doc = Document()\n",
    "\n",
    "    title = data[\"title\"]\n",
    "    content = data[\"content\"]\n",
    "    from_id = data[\"from_id\"]\n",
    "    to_id = data[\"to_id\"]\n",
    "    date = data[\"date\"]\n",
    "    money = data[\"money\"]\n",
    "\n",
    "    # Add title with centered alignment\n",
    "    title_paragraph = doc.add_paragraph(title)\n",
    "    title_paragraph.alignment = WD_PARAGRAPH_ALIGNMENT.CENTER\n",
    "\n",
    "    # Make title light blue\n",
    "    title_run = title_paragraph.runs[0]\n",
    "    title_run.bold = True\n",
    "    title_run.font.size = Pt(20)  # Adjust font size for the title\n",
    "    title_run.font.color.rgb = RGBColor(135, 206, 250)  # Light blue color\n",
    "\n",
    "    # Add paragraph spacing\n",
    "    doc.add_paragraph().add_run().add_break()  # Add 2 line breaks\n",
    "\n",
    "    # Create a table with the specified data\n",
    "    table_data = list(zip(date, from_id, to_id, money))\n",
    "    column_headers = ['Date', 'From', 'To', 'Money']\n",
    "    add_table(doc, table_data, column_headers)\n",
    "\n",
    "    # Add paragraph spacing\n",
    "    doc.add_paragraph().add_run().add_break()  # Add 2 line breaks\n",
    "\n",
    "    # Add content as a paragraph\n",
    "    add_paragraph(doc, content)\n",
    "\n",
    "    doc.save('report.docx')\n",
    "\n",
    "# Example data\n",
    "data = {\n",
    "    \"title\": \"Twin Towers\",\n",
    "    \"content\": \"Lorem ipsum dolor sit amet, consectetur adipiscing elit.\",\n",
    "    \"from_id\": [\"UserA\", \"UserB\", \"UserC\"],\n",
    "    \"to_id\": [\"UserX\", \"UserY\", \"UserZ\"],\n",
    "    \"date\": [\"2024-01-01\", \"2024-01-02\", \"2024-01-03\"],\n",
    "    \"money\": [100, 200, 300]\n",
    "}\n",
    "\n",
    "generate_report(data)\n"
   ]
  },
  {
   "cell_type": "code",
   "execution_count": 105,
   "metadata": {},
   "outputs": [
    {
     "name": "stdout",
     "output_type": "stream",
     "text": [
      "{'city': 'Mumbai'}\n"
     ]
    },
    {
     "data": {
      "text/plain": [
       "{'id': [3, 23, 23, 23, 23, 23, 23, 23, 23],\n",
       " 'address': ['santacruz, mumbai, maharashtra, india',\n",
       "  'santacruz, mumbai, maharashtra, india',\n",
       "  'santacruz, mumbai, maharashtra, india',\n",
       "  'santacruz, mumbai, maharashtra, india',\n",
       "  'santacruz, mumbai, maharashtra, india',\n",
       "  'santacruz, mumbai, maharashtra, india',\n",
       "  'santacruz, mumbai, maharashtra, india',\n",
       "  'santacruz, mumbai, maharashtra, india',\n",
       "  'santacruz, mumbai, maharashtra, india'],\n",
       " 'lat': [19.0928172,\n",
       "  19.0928172,\n",
       "  19.0928172,\n",
       "  19.0928172,\n",
       "  19.0928172,\n",
       "  19.0928172,\n",
       "  19.0928172,\n",
       "  19.0928172,\n",
       "  19.0928172],\n",
       " 'long': [72.8569577,\n",
       "  72.8569577,\n",
       "  72.8569577,\n",
       "  72.8569577,\n",
       "  72.8569577,\n",
       "  72.8569577,\n",
       "  72.8569577,\n",
       "  72.8569577,\n",
       "  72.8569577],\n",
       " 'city': ['Mumbai',\n",
       "  'Mumbai',\n",
       "  'Mumbai',\n",
       "  'Mumbai',\n",
       "  'Mumbai',\n",
       "  'Mumbai',\n",
       "  'Mumbai',\n",
       "  'Mumbai',\n",
       "  'Mumbai']}"
      ]
     },
     "execution_count": 105,
     "metadata": {},
     "output_type": "execute_result"
    }
   ],
   "source": [
    "def returnid(data):\n",
    "    print(data)\n",
    "    city = data[\"city\"]\n",
    "    df = pd.read_csv(\"D:/Abhi-theek-kar-k-deta-hu/artifacts/location.csv\")\n",
    "    df1 = df[df['city'] == city]  # Filter the DataFrame based on the city name\n",
    "\n",
    "    id = df1[\"id\"].values.tolist()\n",
    "    add = df1[\"address\"].values.tolist()\n",
    "    lat = df1[\"lat\"].values.tolist()\n",
    "    long = df1[\"long\"].values.tolist()\n",
    "    city1 = df1[\"city\"].values.tolist()\n",
    "\n",
    "    data1 = {\n",
    "        \"id\": id,\n",
    "        \"address\": add,\n",
    "        \"lat\": lat,\n",
    "        \"long\": long,\n",
    "        \"city\": city1,\n",
    "    }\n",
    "\n",
    "    return data1\n",
    "\n",
    "returnid({\"city\": \"Mumbai\"})"
   ]
  },
  {
   "cell_type": "code",
   "execution_count": 7,
   "metadata": {},
   "outputs": [
    {
     "name": "stdout",
     "output_type": "stream",
     "text": [
      "Requirement already satisfied: docx in c:\\users\\shrey\\anaconda3\\lib\\site-packages (0.2.4)\n",
      "Requirement already satisfied: lxml in c:\\users\\shrey\\anaconda3\\lib\\site-packages (from docx) (4.9.3)\n",
      "Requirement already satisfied: Pillow>=2.0 in c:\\users\\shrey\\anaconda3\\lib\\site-packages (from docx) (9.4.0)\n"
     ]
    }
   ],
   "source": [
    "! pip install docx"
   ]
  },
  {
   "cell_type": "code",
   "execution_count": 8,
   "metadata": {},
   "outputs": [
    {
     "data": {
      "text/plain": [
       "'D:/Abhi-theek-kar-k-deta-hu/notebooks/report.docx'"
      ]
     },
     "execution_count": 8,
     "metadata": {},
     "output_type": "execute_result"
    }
   ],
   "source": [
    "from docx import Document\n",
    "from docx.shared import Pt, RGBColor\n",
    "from docx.enum.text import WD_PARAGRAPH_ALIGNMENT\n",
    "from docx.shared import Cm\n",
    "\n",
    "def makedoc(data):\n",
    "    def add_table(doc, table_data, column_headers):\n",
    "        table = doc.add_table(rows=1, cols=len(column_headers))\n",
    "        hdr_cells = table.rows[0].cells\n",
    "        for i, header in enumerate(column_headers):\n",
    "            hdr_cells[i].text = header\n",
    "        for row_data in table_data:\n",
    "            row_cells = table.add_row().cells\n",
    "            for i, value in enumerate(row_data):\n",
    "                row_cells[i].text = str(value)\n",
    "                row_cells[i].width = Cm(4)  # Set the width of each cell to 4 centimeters\n",
    "\n",
    "    def add_paragraph(doc, text):\n",
    "        paragraph = doc.add_paragraph(text)\n",
    "\n",
    "    def generate_report(data):\n",
    "        doc = Document()\n",
    "\n",
    "        title = data[\"title\"]\n",
    "        content = data[\"content\"]\n",
    "        from_id = data[\"from_id\"]\n",
    "        to_id = data[\"to_id\"]\n",
    "        date = data[\"date\"]\n",
    "        money = data[\"money\"]\n",
    "\n",
    "        # Add title with centered alignment\n",
    "        title_paragraph = doc.add_paragraph(title)\n",
    "        title_paragraph.alignment = WD_PARAGRAPH_ALIGNMENT.CENTER\n",
    "\n",
    "        # Make title light blue\n",
    "        title_run = title_paragraph.runs[0]\n",
    "        title_run.bold = True\n",
    "        title_run.font.size = Pt(20)  # Adjust font size for the title\n",
    "        title_run.font.color.rgb = RGBColor(135, 206, 250)  # Light blue color\n",
    "\n",
    "        # Add paragraph spacing\n",
    "        doc.add_paragraph().add_run().add_break()  # Add 2 line breaks\n",
    "\n",
    "        # Create a table with the specified data\n",
    "        table_data = list(zip(date, from_id, to_id, money))\n",
    "        column_headers = ['Date', 'From', 'To', 'Money']\n",
    "        add_table(doc, table_data, column_headers)\n",
    "\n",
    "        # Add paragraph spacing\n",
    "        doc.add_paragraph().add_run().add_break()  # Add 2 line breaks\n",
    "\n",
    "        # Add content as a paragraph\n",
    "        add_paragraph(doc, content)\n",
    "\n",
    "        doc.save('D:/Abhi-theek-kar-k-deta-hu/notebooks/report.docx')\n",
    "\n",
    "    # Example data\n",
    "    generate_report(data)\n",
    "\n",
    "    return \"D:/Abhi-theek-kar-k-deta-hu/notebooks/report.docx\"\n",
    "\n",
    "data = {\n",
    "    'title': ['Anus'],\n",
    "    'content': ['09909851'],\n",
    "    'from_id': ['0318232'],\n",
    "    'to_id': ['838283'],\n",
    "    'date': ['20215:15:27.615Z'],\n",
    "    'money': ['dedh laakh']\n",
    "}\n",
    "\n",
    "makedoc(data)\n"
   ]
  },
  {
   "cell_type": "code",
   "execution_count": null,
   "metadata": {},
   "outputs": [],
   "source": [
    "from docx import Document\n",
    "from docx.shared import Pt\n",
    "from docx.enum.text import WD_PARAGRAPH_ALIGNMENT\n",
    "from docx.shared import RGBColor\n",
    "from docx.shared import Cm"
   ]
  },
  {
   "cell_type": "code",
   "execution_count": 16,
   "metadata": {},
   "outputs": [],
   "source": [
    "def makedoc(data):\n",
    "        def add_table(doc, table_data, column_headers):\n",
    "            table = doc.add_table(rows=1, cols=len(column_headers))\n",
    "            hdr_cells = table.rows[0].cells\n",
    "            for i, header in enumerate(column_headers):\n",
    "                hdr_cells[i].text = header\n",
    "            for row_data in table_data:\n",
    "                row_cells = table.add_row().cells\n",
    "                for i, value in enumerate(row_data):\n",
    "                    row_cells[i].text = str(value)\n",
    "                    row_cells[i].width = Cm(4)  # Set the width of each cell to 4 centimeters\n",
    "\n",
    "        def add_paragraph(doc, text):\n",
    "            paragraph = doc.add_paragraph(text)\n",
    "\n",
    "        def generate_report(data):\n",
    "            doc = Document()\n",
    "\n",
    "            title = (data[\"title\"])\n",
    "            content = (data[\"content\"])\n",
    "            from_id = (data[\"from_id\"])\n",
    "            to_id = (data[\"to_id\"])\n",
    "            date = (data[\"date\"])\n",
    "            money = (data[\"money\"])\n",
    "            from_name = (data[\"from_name\"])\n",
    "            to_name = (data[\"to_name\"])\n",
    "\n",
    "            # Add title with centered alignment\n",
    "            title_paragraph = doc.add_paragraph(title)\n",
    "            title_paragraph.alignment = WD_PARAGRAPH_ALIGNMENT.CENTER\n",
    "\n",
    "            # Make title light blue\n",
    "            title_run = title_paragraph.runs[0]\n",
    "            title_run.bold = True\n",
    "            title_run.font.size = Pt(20)  # Adjust font size for the title\n",
    "            title_run.font.color.rgb = RGBColor(135, 206, 250)  # Light blue color\n",
    "\n",
    "            # Add paragraph spacing\n",
    "            doc.add_paragraph().add_run().add_break()  # Add 2 line breaks\n",
    "\n",
    "            # Create a table with the specified data\n",
    "            table_data = list(zip(date, from_name, from_id, to_name,to_id, money))\n",
    "            column_headers = ['Date', \"Name\", 'From', \"Name\",'To', 'Money']\n",
    "            add_table(doc, table_data, column_headers)\n",
    "\n",
    "            # Add paragraph spacing\n",
    "            doc.add_paragraph().add_run().add_break()  # Add 2 line breaks\n",
    "\n",
    "            # Add content as a paragraph\n",
    "            add_paragraph(doc, content)\n",
    "\n",
    "            doc.save(\"D:/Abhi-theek-kar-k-deta-hu/notebooks/report.docx\") \n",
    "\n",
    "        # Example data\n",
    "        generate_report(data)\n",
    "\n",
    "        return \"D:/Abhi-theek-kar-k-deta-hu/notebooks/report.docx\""
   ]
  }
 ],
 "metadata": {
  "kernelspec": {
   "display_name": "base",
   "language": "python",
   "name": "python3"
  },
  "language_info": {
   "codemirror_mode": {
    "name": "ipython",
    "version": 3
   },
   "file_extension": ".py",
   "mimetype": "text/x-python",
   "name": "python",
   "nbconvert_exporter": "python",
   "pygments_lexer": "ipython3",
   "version": "3.11.5"
  }
 },
 "nbformat": 4,
 "nbformat_minor": 2
}
